{
  "nbformat": 4,
  "nbformat_minor": 0,
  "metadata": {
    "colab": {
      "name": "DM_ASS2",
      "provenance": [],
      "collapsed_sections": []
    },
    "kernelspec": {
      "name": "python3",
      "display_name": "Python 3"
    },
    "language_info": {
      "name": "python"
    }
  },
  "cells": [
    {
      "cell_type": "code",
      "metadata": {
        "colab": {
          "base_uri": "https://localhost:8080/"
        },
        "id": "IyC2AwP2qMmQ",
        "outputId": "11f8859a-b6dc-414d-b9e9-0c3309312610"
      },
      "source": [
        "import numpy as np\n",
        "import math\n",
        "import torch\n",
        "from torch.autograd import Variable\n",
        "import matplotlib.pyplot as pl\n",
        "\n",
        "#https://numpy.org/doc/stable/reference/random/generated/numpy.random.normal.html\n",
        "\n",
        "N = np.random.normal(0, 1, 20)\n",
        "\n",
        "#https://numpy.org/doc/stable/reference/random/generated/numpy.random.uniform.html\n",
        "X = np.random.uniform(0,1,20)\n",
        "\n",
        "#https://www.w3schools.com/python/ref_math_pi.asp\n",
        "#https://www.geeksforgeeks.org/python-math-sin-function/\n",
        "Y=[]\n",
        "for i in range (0,20):\n",
        "    temp_y=math.sin(2*(math.pi)*X[i]) + 0.01 * N[i]\n",
        "    Y.append(temp_y)\n",
        "    \n",
        "# train test split\n",
        "x_train = X[:10]\n",
        "x_test=X[10:20]\n",
        "#x_test=sorted(x_test)\n",
        "y_train = Y[:10]\n",
        "y_test = Y[10:20]\n",
        "N\n",
        "\n",
        "X_Line_Space=np.linspace(0,1, num=50)\n",
        "X_Line_Space\n"
      ],
      "execution_count": 129,
      "outputs": [
        {
          "output_type": "execute_result",
          "data": {
            "text/plain": [
              "array([0.        , 0.02040816, 0.04081633, 0.06122449, 0.08163265,\n",
              "       0.10204082, 0.12244898, 0.14285714, 0.16326531, 0.18367347,\n",
              "       0.20408163, 0.2244898 , 0.24489796, 0.26530612, 0.28571429,\n",
              "       0.30612245, 0.32653061, 0.34693878, 0.36734694, 0.3877551 ,\n",
              "       0.40816327, 0.42857143, 0.44897959, 0.46938776, 0.48979592,\n",
              "       0.51020408, 0.53061224, 0.55102041, 0.57142857, 0.59183673,\n",
              "       0.6122449 , 0.63265306, 0.65306122, 0.67346939, 0.69387755,\n",
              "       0.71428571, 0.73469388, 0.75510204, 0.7755102 , 0.79591837,\n",
              "       0.81632653, 0.83673469, 0.85714286, 0.87755102, 0.89795918,\n",
              "       0.91836735, 0.93877551, 0.95918367, 0.97959184, 1.        ])"
            ]
          },
          "metadata": {},
          "execution_count": 129
        }
      ]
    },
    {
      "cell_type": "code",
      "metadata": {
        "id": "5W_w73unZSjO"
      },
      "source": [
        "class Model0:\n",
        "    def __init__(self):\n",
        "        self.w00= Variable(torch.Tensor([1.0]),  requires_grad=True)  # Any random value\n",
        "        self.testloss=0\n",
        "        self.trainloss=0\n",
        "        self.y_predicted=[]\n",
        "        \n",
        "    #0 degree linear regression\n",
        "    def forward(self,x):\n",
        "        return self.w00 \n",
        "    #0 degree linear regression\n",
        "    def forward1(self,x):\n",
        "        return self.w00.data\n",
        "\n",
        "    # Loss function\n",
        "    def loss(self,x, y):\n",
        "        y_pred = self.forward(x)\n",
        "        return (y_pred-y) * (y_pred-y)\n",
        "    \n",
        "    def trainModel(self,epochrange):\n",
        "        # Training loop\n",
        "        for epoch in range(epochrange):\n",
        "            self.trainloss=0\n",
        "            for x_val, y_val in zip(x_train, y_train):                \n",
        "                l = self.loss(x_val, y_val)\n",
        "                self.trainloss=self.trainloss+l\n",
        "                l.backward()\n",
        "                self.w00.data = self.w00.data - 0.01 * self.w00.grad.data\n",
        "\n",
        "                self.w00.grad.data.zero_()\n",
        "\n",
        "        self.trainloss=self.trainloss/len(y_train)\n",
        "        print(\"Final train Loss \",self.trainloss.data)\n",
        "        print(\"w0\",self.w00)\n",
        "\n",
        "        \n",
        "    def testModel(self):\n",
        "        y_p=0\n",
        "        for x_t,y_t in zip(x_test,y_test):\n",
        "            y_p=self.forward(y_t)\n",
        "            y_p1=y_p.detach().numpy()\n",
        "            self.y_predicted.append(y_p1[0])\n",
        "            self.testloss=self.testloss+self.loss(x_t,y_t)\n",
        "        \n",
        "        self.testloss=self.testloss/len(y_test)\n",
        "        print(\"Final test Loss \",self.testloss.data)\n",
        "            \n",
        "    def drawPredictionLine(self):\n",
        "        \n",
        "        pl.scatter(x_test, y_test, color = 'red')\n",
        "        yp=[]\n",
        "        for i in range(0,len(X_Line_Space)):\n",
        "          yp.append(self.w00.data)\n",
        "        pl.plot(X_Line_Space, yp, color = 'blue')\n"
      ],
      "execution_count": 130,
      "outputs": []
    },
    {
      "cell_type": "code",
      "metadata": {
        "colab": {
          "base_uri": "https://localhost:8080/",
          "height": 316
        },
        "id": "TxZHw_aeZSwr",
        "outputId": "b56ecc8b-8e39-4df6-e23e-6aaa30a7c421"
      },
      "source": [
        "m0=Model0()\n",
        "m0.trainModel(100)\n",
        "m0.testModel()\n",
        "m0.drawPredictionLine()"
      ],
      "execution_count": 131,
      "outputs": [
        {
          "output_type": "stream",
          "name": "stdout",
          "text": [
            "Final train Loss  tensor([0.6188])\n",
            "w0 tensor([0.1767], requires_grad=True)\n",
            "Final test Loss  tensor([0.3588])\n"
          ]
        },
        {
          "output_type": "display_data",
          "data": {
            "image/png": "[encoded data removed]",
            "text/plain": [
              "<Figure size 432x288 with 1 Axes>"
            ]
          },
          "metadata": {
            "needs_background": "light"
          }
        }
      ]
    },
    {
      "cell_type": "code",
      "metadata": {
        "id": "KXBpNEk-ZS5b"
      },
      "source": [
        "class Model1:\n",
        "    def __init__(self):\n",
        "        self.w01= Variable(torch.Tensor([1.0]),  requires_grad=True)  # Any random value\n",
        "        self.w11= Variable(torch.Tensor([1.0]),  requires_grad=True)\n",
        "        self.testloss=0\n",
        "        self.trainloss=0\n",
        "        self.y_predicted=[]\n",
        "        \n",
        "    #0 degree linear regression\n",
        "    def forward(self,x):\n",
        "        return self.w01 + self.w11 * pow(x,1) \n",
        "\n",
        "    # Loss function\n",
        "    def loss(self,x, y):\n",
        "        y_pred = self.forward(x)\n",
        "        return (y_pred-y) * (y_pred-y)\n",
        "    \n",
        "    def trainModel(self,epochrange):\n",
        "        # Training loop\n",
        "        for epoch in range(epochrange):\n",
        "            self.trainloss=0\n",
        "            for x_val, y_val in zip(x_train, y_train):                \n",
        "                l = self.loss(x_val, y_val)\n",
        "                self.trainloss=self.trainloss+l\n",
        "                l.backward()\n",
        "                self.w01.data = self.w01.data - 0.01 * self.w01.grad.data\n",
        "                self.w11.data = self.w11.data - 0.01 * self.w11.grad.data\n",
        "                \n",
        "                self.w01.grad.data.zero_()\n",
        "                self.w11.grad.data.zero_()\n",
        "\n",
        "                #print(\"\\tgrad: \", x_val, y_val, grad)\n",
        "                \n",
        "                # After training\n",
        "                #print(\"predict (after training)\", self.forward(4))\n",
        "        self.trainloss=self.trainloss/len(y_train)\n",
        "        print(\"w0\",self.w01,\" w1 \",self.w11)\n",
        "        print(\"train error\",self.trainloss)\n",
        "        #print(\"w0=\", self.w00, \"loss=\",l)\n",
        "        \n",
        "    def testModel(self):\n",
        "        y_p=0\n",
        "        for x_t,y_t in zip(x_test,y_test):\n",
        "            y_p=self.forward(y_t)\n",
        "            y_p1=y_p.detach().numpy()\n",
        "            self.y_predicted.append(y_p1[0])\n",
        "            self.testloss=self.testloss+self.loss(x_t,y_t)\n",
        "        self.testloss=self.testloss/len(y_test)   \n",
        "        print(\"test error\",self.testloss)    \n",
        "\n",
        "    def drawPredictionLine(self):\n",
        "        x_test1=sorted(x_test)\n",
        "        pl.scatter(x_test, y_test, color = 'red')\n",
        "        pl.plot(X_Line_Space, (self.w01.data + self.w11.data * X_Line_Space), color = 'blue')\n",
        "        pl.xlabel(\"X_test\")\n",
        "        pl.ylabel(\"y_test\")\n",
        "        #pl.text(0.8,0.75,\"M=0\")"
      ],
      "execution_count": 256,
      "outputs": []
    },
    {
      "cell_type": "code",
      "metadata": {
        "colab": {
          "base_uri": "https://localhost:8080/",
          "height": 331
        },
        "id": "nsS8GzMaZTHE",
        "outputId": "95be407e-6381-4bfb-e955-adf30b18a611"
      },
      "source": [
        "m1=Model1()\n",
        "m1.trainModel(90)\n",
        "m1.testModel()\n",
        "m1.drawPredictionLine()"
      ],
      "execution_count": 257,
      "outputs": [
        {
          "output_type": "stream",
          "name": "stdout",
          "text": [
            "w0 tensor([0.8546], requires_grad=True)  w1  tensor([-1.4351], requires_grad=True)\n",
            "train error tensor([0.2420], grad_fn=<DivBackward0>)\n",
            "test error tensor([0.1740], grad_fn=<DivBackward0>)\n"
          ]
        },
        {
          "output_type": "display_data",
          "data": {
            "image/png": "[encoded data removed]",
            "text/plain": [
              "<Figure size 432x288 with 1 Axes>"
            ]
          },
          "metadata": {
            "needs_background": "light"
          }
        }
      ]
    },
    {
      "cell_type": "code",
      "metadata": {
        "id": "R4RQha_TdAAg"
      },
      "source": [
        "class Model2:\n",
        "    def __init__(self):\n",
        "        self.w02= Variable(torch.Tensor([1.0]),  requires_grad=True)  # Any random value\n",
        "        self.w12= Variable(torch.Tensor([1.0]),  requires_grad=True)\n",
        "        self.w22= Variable(torch.Tensor([1.0]),  requires_grad=True)\n",
        "        self.testloss=0\n",
        "        self.trainloss=0\n",
        "        self.y_predicted=[]\n",
        "        \n",
        "    #0 degree linear regression\n",
        "    def forward(self,x):\n",
        "        return self.w02 + self.w12 * pow(x,1) + self.w22 * pow(x,2) \n",
        "\n",
        "    # Loss function\n",
        "    def loss(self,x, y):\n",
        "        y_pred = self.forward(x)\n",
        "        return (y_pred-y) * (y_pred-y)\n",
        "    \n",
        "    def trainModel(self,epochrange):\n",
        "        # Training loop\n",
        "        for epoch in range(epochrange):\n",
        "            self.trainloss=0\n",
        "            for x_val, y_val in zip(x_train, y_train):                \n",
        "                l = self.loss(x_val, y_val)\n",
        "                self.trainloss=self.trainloss+l\n",
        "                l.backward()\n",
        "                self.w02.data = self.w02.data - 0.01 * self.w02.grad.data\n",
        "                self.w12.data = self.w12.data - 0.01 * self.w12.grad.data\n",
        "                self.w22.data = self.w22.data - 0.01 * self.w22.grad.data\n",
        "                \n",
        "                self.w02.grad.data.zero_()\n",
        "                self.w12.grad.data.zero_()\n",
        "                self.w22.grad.data.zero_()\n",
        "                \n",
        "        print(\"w0\",self.w02,\" w1 \",self.w12,\" w2 \",self.w22)\n",
        "        self.trainloss=self.trainloss/len(y_train)\n",
        "        print(\"Final train Loss \",self.trainloss)\n",
        "\n",
        "    def testModel(self):\n",
        "        y_p=0\n",
        "        for x_t,y_t in zip(x_test,y_test):\n",
        "            y_p=self.forward(y_t)\n",
        "            y_p1=y_p.detach().numpy()\n",
        "            self.y_predicted.append(y_p1[0])\n",
        "            self.testloss=self.testloss+self.loss(x_t,y_t)\n",
        "        \n",
        "        self.testloss=self.testloss/len(y_test)\n",
        "        print(\"Final test Loss \",self.testloss)\n",
        "            \n",
        "    def drawPredictionLine(self):\n",
        "        x_test1=sorted(x_test)\n",
        "        pl.scatter(x_test, y_test, color = 'red')\n",
        "        y_p=self.w02.data+self.w12.data * X_Line_Space + self.w22.data * pow(X_Line_Space,2)\n",
        "        pl.plot(X_Line_Space, y_p, color = 'blue',label=\"M=5\")\n",
        "        pl.xlabel(\"X_test\")\n",
        "        pl.ylabel(\"y_test\")"
      ],
      "execution_count": 134,
      "outputs": []
    },
    {
      "cell_type": "code",
      "metadata": {
        "colab": {
          "base_uri": "https://localhost:8080/",
          "height": 316
        },
        "id": "lnlKg0n-eb1_",
        "outputId": "c91a566a-3a76-4663-a7dd-921676d466b2"
      },
      "source": [
        "m2=Model2()\n",
        "m2.trainModel(1000)\n",
        "m2.testModel()\n",
        "m2.drawPredictionLine()"
      ],
      "execution_count": 245,
      "outputs": [
        {
          "output_type": "stream",
          "name": "stdout",
          "text": [
            "w0 tensor([1.0484], requires_grad=True)  w1  tensor([-1.1910], requires_grad=True)  w2  tensor([-0.8673], requires_grad=True)\n",
            "Final train Loss  tensor([0.1946], grad_fn=<DivBackward0>)\n",
            "Final test Loss  tensor([0.1438], grad_fn=<DivBackward0>)\n"
          ]
        },
        {
          "output_type": "display_data",
          "data": {
            "image/png": "[encoded data removed]",
            "text/plain": [
              "<Figure size 432x288 with 1 Axes>"
            ]
          },
          "metadata": {
            "needs_background": "light"
          }
        }
      ]
    },
    {
      "cell_type": "code",
      "metadata": {
        "id": "acRC-bOEhPGv"
      },
      "source": [
        "class Model3:\n",
        "    def __init__(self):\n",
        "        self.w03= Variable(torch.Tensor([1.0]),  requires_grad=True)  # Any random value\n",
        "        self.w13= Variable(torch.Tensor([1.0]),  requires_grad=True)\n",
        "        self.w23= Variable(torch.Tensor([1.0]),  requires_grad=True)\n",
        "        self.w33= Variable(torch.Tensor([1.0]),  requires_grad=True)\n",
        "\n",
        "        self.testloss=0\n",
        "        self.trainloss=0\n",
        "        self.y_predicted=[]\n",
        "        \n",
        "    #0 degree linear regression\n",
        "    def forward(self,x):\n",
        "        return self.w03 + self.w13 * pow(x,1) + self.w23 * pow(x,2) + self.w33 * pow(x,3) \n",
        "        \n",
        "    def forward1(self,x):\n",
        "        return self.w03.data + self.w13.data * pow(x,1) + self.w23.data * pow(x,2) + self.w33.data * pow(x,3) \n",
        "\n",
        "    # Loss function\n",
        "    def loss(self,x, y):\n",
        "        y_pred = self.forward(x)\n",
        "        return (y_pred-y) * (y_pred-y)\n",
        "    \n",
        "    def trainModel(self,epochrange):\n",
        "        # Training loop\n",
        "        for epoch in range(epochrange):\n",
        "            self.trainloss=0\n",
        "            for x_val, y_val in zip(x_train, y_train):                \n",
        "                l = self.loss(x_val, y_val)\n",
        "                self.trainloss=self.trainloss+l\n",
        "                l.backward()\n",
        "                self.w03.data = self.w03.data - 0.01 * self.w03.grad.data\n",
        "                self.w13.data = self.w13.data - 0.01 * self.w13.grad.data\n",
        "                self.w23.data = self.w23.data - 0.01 * self.w23.grad.data\n",
        "                self.w33.data = self.w33.data - 0.01 * self.w33.grad.data\n",
        "                \n",
        "                self.w03.grad.data.zero_()\n",
        "                self.w13.grad.data.zero_()\n",
        "                self.w23.grad.data.zero_()\n",
        "                self.w33.grad.data.zero_()\n",
        "\n",
        "                #print(\"\\tgrad: \", x_val, y_val, grad)\n",
        "                \n",
        "                # After training\n",
        "                #print(\"predict (after training)\", self.forward(4))\n",
        "            #self.trainloss=l/len(y_train)\n",
        "        \n",
        "        self.trainloss=self.trainloss/len(y_train)\n",
        "        print(\"Final train Loss \",self.trainloss)\n",
        "\n",
        "    def testModel(self):\n",
        "        y_p=0\n",
        "        for x_t,y_t in zip(x_test,y_test):\n",
        "            y_p=self.forward(y_t)\n",
        "            y_p1=y_p.detach().numpy()\n",
        "            self.y_predicted.append(y_p1[0])\n",
        "            self.testloss=self.testloss+self.loss(x_t,y_t)\n",
        "        \n",
        "        self.testloss=self.testloss/len(y_test)\n",
        "        print(\"Final test Loss \",self.testloss)\n",
        "            \n",
        "    def drawPredictionLine(self):\n",
        "        x_test1=sorted(x_test)\n",
        "        pl.scatter(x_test, y_test, color = 'red')\n",
        "        y_p=self.forward1(X_Line_Space)\n",
        "        pl.plot(X_Line_Space, y_p, color = 'blue')\n",
        "        #pl.text(0.8,0.75,\"M=0\")\n",
        "        pl.xlabel(\"X_test\")\n",
        "        pl.ylabel(\"y_test\")"
      ],
      "execution_count": 140,
      "outputs": []
    },
    {
      "cell_type": "code",
      "metadata": {
        "colab": {
          "base_uri": "https://localhost:8080/",
          "height": 299
        },
        "id": "08aFQPh0hmdm",
        "outputId": "f6a035c6-a955-4ee1-bf81-ffb407fcf715"
      },
      "source": [
        "m3=Model3()\n",
        "m3.trainModel(100000)\n",
        "m3.testModel()\n",
        "m3.drawPredictionLine()"
      ],
      "execution_count": 142,
      "outputs": [
        {
          "output_type": "stream",
          "name": "stdout",
          "text": [
            "Final train Loss  tensor([0.0061], grad_fn=<DivBackward0>)\n",
            "Final test Loss  tensor([0.0046], grad_fn=<DivBackward0>)\n"
          ]
        },
        {
          "output_type": "display_data",
          "data": {
            "image/png": "[encoded data removed]",
            "text/plain": [
              "<Figure size 432x288 with 1 Axes>"
            ]
          },
          "metadata": {
            "needs_background": "light"
          }
        }
      ]
    },
    {
      "cell_type": "code",
      "metadata": {
        "id": "ivmFqvYCjRDw"
      },
      "source": [
        "class Model4:\n",
        "    def __init__(self):\n",
        "        self.w04= Variable(torch.Tensor([1.0]),  requires_grad=True)  # Any random value\n",
        "        self.w14= Variable(torch.Tensor([1.0]),  requires_grad=True)\n",
        "        self.w24= Variable(torch.Tensor([1.0]),  requires_grad=True)\n",
        "        self.w34= Variable(torch.Tensor([1.0]),  requires_grad=True)\n",
        "        self.w44= Variable(torch.Tensor([1.0]),  requires_grad=True)\n",
        "        self.testloss=0\n",
        "        self.trainloss=0\n",
        "        self.y_predicted=[]\n",
        "        \n",
        "    def forward(self,x):\n",
        "        return self.w04 + self.w14 * pow(x,1) + self.w24 * pow(x,2) + self.w34 * pow(x,3) +self.w44 * pow(x,4)\n",
        "\n",
        "    def forward1(self,x):\n",
        "        return self.w04.data + self.w14.data * pow(x,1) + self.w24.data * pow(x,2) + self.w34.data * pow(x,3) +self.w44.data * pow(x,4)\n",
        "\n",
        "\n",
        "    def loss(self,x, y):\n",
        "        y_pred = self.forward(x)\n",
        "        return (y_pred-y) * (y_pred-y)\n",
        "    \n",
        "    def trainModel(self,epochrange):\n",
        "\n",
        "        for epoch in range(epochrange):\n",
        "            self.trainloss=0\n",
        "            for x_val, y_val in zip(x_train, y_train):                \n",
        "                l = self.loss(x_val, y_val)\n",
        "                self.trainloss=self.trainloss+l\n",
        "                l.backward()\n",
        "                self.w04.data = self.w04.data - 0.01 * self.w04.grad.data\n",
        "                self.w14.data = self.w14.data - 0.01 * self.w14.grad.data\n",
        "                self.w24.data = self.w24.data - 0.01 * self.w24.grad.data\n",
        "                self.w34.data = self.w34.data - 0.01 * self.w34.grad.data\n",
        "                self.w44.data = self.w44.data - 0.01 * self.w44.grad.data\n",
        "                \n",
        "                self.w04.grad.data.zero_()\n",
        "                self.w14.grad.data.zero_()\n",
        "                self.w24.grad.data.zero_()\n",
        "                self.w34.grad.data.zero_()\n",
        "                self.w44.grad.data.zero_()\n",
        "\n",
        "                \n",
        "                #print(\"\\tgrad: \", x_val, y_val, grad)\n",
        "                \n",
        "                # After training\n",
        "                #print(\"predict (after training)\", self.forward(4))\n",
        "            \n",
        "        \n",
        "        self.trainloss=self.trainloss/len(y_train)\n",
        "        print(\"Final train Loss \",self.trainloss)\n",
        "        \n",
        "    def testModel(self):\n",
        "        y_p=0\n",
        "        for x_t,y_t in zip(x_test,y_test):\n",
        "            y_p=self.forward(y_t)\n",
        "            y_p1=y_p.detach().numpy()\n",
        "            self.y_predicted.append(y_p1[0])\n",
        "            self.testloss=self.testloss+self.loss(x_t,y_t)\n",
        "        \n",
        "        self.testloss=self.testloss/len(y_test)\n",
        "        print(\"Final test Loss \",self.testloss)\n",
        "\n",
        "    def drawPredictionLine(self):\n",
        "        x_test1=sorted(x_test)\n",
        "        pl.scatter(x_test, y_test, color = 'red')\n",
        "        y_p=self.forward1(X_Line_Space)\n",
        "        pl.plot(X_Line_Space, y_p, color = 'blue')\n",
        "        pl.xlabel(\"X_test\")\n",
        "        pl.ylabel(\"y_test\")"
      ],
      "execution_count": 246,
      "outputs": []
    },
    {
      "cell_type": "code",
      "metadata": {
        "colab": {
          "base_uri": "https://localhost:8080/",
          "height": 299
        },
        "id": "EfsE5Eskj7RX",
        "outputId": "6e07b775-ba55-4210-9fe0-8aca89ea743f"
      },
      "source": [
        "m4=Model4()\n",
        "m4.trainModel(100000)\n",
        "m4.testModel()\n",
        "m4.drawPredictionLine()"
      ],
      "execution_count": 251,
      "outputs": [
        {
          "output_type": "stream",
          "name": "stdout",
          "text": [
            "Final train Loss  tensor([0.0049], grad_fn=<DivBackward0>)\n",
            "Final test Loss  tensor([0.0050], grad_fn=<DivBackward0>)\n"
          ]
        },
        {
          "output_type": "display_data",
          "data": {
            "image/png": "[encoded data removed]",
            "text/plain": [
              "<Figure size 432x288 with 1 Axes>"
            ]
          },
          "metadata": {
            "needs_background": "light"
          }
        }
      ]
    },
    {
      "cell_type": "code",
      "metadata": {
        "id": "eLm2SJ0qlcEI"
      },
      "source": [
        "class Model5:\n",
        "    def __init__(self):\n",
        "        self.w05= Variable(torch.Tensor([1.0]),  requires_grad=True)  # Any random value\n",
        "        self.w15= Variable(torch.Tensor([1.0]),  requires_grad=True)\n",
        "        self.w25= Variable(torch.Tensor([1.0]),  requires_grad=True)\n",
        "        self.w35= Variable(torch.Tensor([1.0]),  requires_grad=True)\n",
        "        self.w45= Variable(torch.Tensor([1.0]),  requires_grad=True)\n",
        "        self.w55= Variable(torch.Tensor([1.0]),  requires_grad=True)\n",
        "        self.testloss=0\n",
        "        self.trainloss=0\n",
        "        self.y_predicted=[]\n",
        "      \n",
        "    def forward(self,x):\n",
        "        return self.w05 + self.w15 * pow(x,1) + self.w25 * pow(x,2) + self.w35 * pow(x,3) +self.w45 * pow(x,4)+ self.w55 * pow(x,5)\n",
        "\n",
        "    def forward1(self,x):\n",
        "        return self.w05.data + self.w15.data * pow(x,1) + self.w25.data * pow(x,2) + self.w35.data * pow(x,3) + self.w45.data * pow(x,4) + self.w55.data * pow(x,5)\n",
        "\n",
        "    # Loss function\n",
        "    def loss(self,x, y):\n",
        "        y_pred = self.forward(x)\n",
        "        return (y_pred-y) * (y_pred-y)\n",
        "    \n",
        "    def trainModel(self,epochrange):\n",
        "        # Training loop\n",
        "        for epoch in range(epochrange):\n",
        "            self.trainloss=0\n",
        "            for x_val, y_val in zip(x_train, y_train):                \n",
        "                l = self.loss(x_val, y_val)\n",
        "                self.trainloss=self.trainloss+l\n",
        "                l.backward()\n",
        "                self.w05.data = self.w05.data - 0.01 * self.w05.grad.data\n",
        "                self.w15.data = self.w15.data - 0.01 * self.w15.grad.data\n",
        "                self.w25.data = self.w25.data - 0.01 * self.w25.grad.data\n",
        "                self.w35.data = self.w35.data - 0.01 * self.w35.grad.data\n",
        "                self.w45.data = self.w45.data - 0.01 * self.w45.grad.data\n",
        "                self.w55.data = self.w55.data - 0.01 * self.w55.grad.data\n",
        "                \n",
        "                self.w05.grad.data.zero_()\n",
        "                self.w15.grad.data.zero_()\n",
        "                self.w25.grad.data.zero_()\n",
        "                self.w35.grad.data.zero_()\n",
        "                self.w45.grad.data.zero_()\n",
        "                self.w55.grad.data.zero_()\n",
        "                #print(\"\\tgrad: \", x_val, y_val, grad)\n",
        "                \n",
        "                # After training\n",
        "                #print(\"predict (after training)\", self.forward(4))\n",
        "            \n",
        "         \n",
        "        self.trainloss=self.trainloss/len(y_train)\n",
        "        print(\"Final train Loss \",self.trainloss)\n",
        "\n",
        "        \n",
        "    def testModel(self):\n",
        "        y_p=0\n",
        "        for x_t,y_t in zip(x_test,y_test):\n",
        "            y_p=self.forward(y_t)\n",
        "            y_p1=y_p.detach().numpy()\n",
        "            self.y_predicted.append(y_p1[0])\n",
        "            self.testloss=self.testloss+self.loss(x_t,y_t)\n",
        "        self.testloss=self.testloss/len(y_test)\n",
        "        print(\"Final test Loss \",self.testloss)\n",
        "            \n",
        "    def drawPredictionLine(self):\n",
        "\n",
        "        pl.scatter(x_test, y_test, color = 'red')\n",
        "        yp=self.forward1(X_Line_Space)\n",
        "        pl.plot(X_Line_Space,yp , color = 'blue')\n",
        "        pl.xlabel(\"X_test\")\n",
        "        pl.ylabel(\"y_test\")"
      ],
      "execution_count": 152,
      "outputs": []
    },
    {
      "cell_type": "code",
      "metadata": {
        "colab": {
          "base_uri": "https://localhost:8080/"
        },
        "id": "GcxQZM9ClcN3",
        "outputId": "b47270eb-e6a1-4a97-e113-584fcd1eab42"
      },
      "source": [
        "m5=Model5()\n",
        "m5.trainModel(100)\n",
        "m5.testModel()\n"
      ],
      "execution_count": 153,
      "outputs": [
        {
          "output_type": "stream",
          "name": "stdout",
          "text": [
            "Final train Loss  tensor([0.2058], grad_fn=<DivBackward0>)\n",
            "Final test Loss  tensor([0.1264], grad_fn=<DivBackward0>)\n"
          ]
        }
      ]
    },
    {
      "cell_type": "code",
      "metadata": {
        "id": "5lkFUE8iV_ZG"
      },
      "source": [
        "class Model6:\n",
        "    def __init__(self):\n",
        "        self.w06= Variable(torch.Tensor([1.0]),  requires_grad=True)  # Any random value\n",
        "        self.w16= Variable(torch.Tensor([1.0]),  requires_grad=True)\n",
        "        self.w26= Variable(torch.Tensor([1.0]),  requires_grad=True)\n",
        "        self.w36= Variable(torch.Tensor([1.0]),  requires_grad=True)\n",
        "        self.w46= Variable(torch.Tensor([1.0]),  requires_grad=True)\n",
        "        self.w56= Variable(torch.Tensor([1.0]),  requires_grad=True)\n",
        "        self.w66= Variable(torch.Tensor([1.0]),  requires_grad=True)\n",
        "\n",
        "        self.testloss=0\n",
        "        self.trainloss=0\n",
        "        self.y_predicted=[]\n",
        "        \n",
        "    #0 degree linear regression\n",
        "    def forward(self,x):\n",
        "        return self.w06 + self.w16 * pow(x,1) + self.w26 * pow(x,2) + self.w36 * pow(x,3) +self.w46 * pow(x,4)+ self.w56 * pow(x,5)+ self.w66 * pow(x,6)\n",
        "\n",
        "    # Loss function\n",
        "    def loss(self,x, y):\n",
        "        y_pred = self.forward(x)\n",
        "        return (y_pred-y) * (y_pred-y)\n",
        "    \n",
        "    def trainModel(self,epochrange):\n",
        "        # Training loop\n",
        "        for epoch in range(epochrange):\n",
        "            self.trainloss=0\n",
        "            for x_val, y_val in zip(x_train, y_train):                \n",
        "                l = self.loss(x_val, y_val)\n",
        "                self.trainloss=self.trainloss+l\n",
        "                l.backward()\n",
        "                self.w06.data = self.w06.data - 0.01 * self.w06.grad.data\n",
        "                self.w16.data = self.w16.data - 0.01 * self.w16.grad.data\n",
        "                self.w26.data = self.w26.data - 0.01 * self.w26.grad.data\n",
        "                self.w36.data = self.w36.data - 0.01 * self.w36.grad.data\n",
        "                self.w46.data = self.w46.data - 0.01 * self.w46.grad.data\n",
        "                self.w56.data = self.w56.data - 0.01 * self.w56.grad.data\n",
        "                self.w66.data = self.w66.data - 0.01 * self.w66.grad.data\n",
        "                \n",
        "                self.w06.grad.data.zero_()\n",
        "                self.w16.grad.data.zero_()\n",
        "                self.w26.grad.data.zero_()\n",
        "                self.w36.grad.data.zero_()\n",
        "                self.w46.grad.data.zero_()\n",
        "                self.w56.grad.data.zero_()\n",
        "                self.w66.grad.data.zero_()\n",
        "                \n",
        "        self.trainloss=self.trainloss/len(y_train)\n",
        "        print(\"Train Loss \",self.trainloss)\n",
        "\n",
        "    def testModel(self):\n",
        "        y_p=0\n",
        "        for x_t,y_t in zip(x_test,y_test):\n",
        "            y_p=self.forward(y_t)\n",
        "            y_p1=y_p.detach().numpy()\n",
        "            self.y_predicted.append(y_p1[0])\n",
        "            self.testloss=self.testloss+self.loss(x_t,y_t)\n",
        "        \n",
        "        self.testloss=self.testloss/len(y_test)\n",
        "        print(\"Final test Loss \",self.testloss)\n",
        "            "
      ],
      "execution_count": 156,
      "outputs": []
    },
    {
      "cell_type": "code",
      "metadata": {
        "colab": {
          "base_uri": "https://localhost:8080/"
        },
        "id": "JkGVUnO4V_j3",
        "outputId": "6730de40-acf7-4011-d730-5a581354a62d"
      },
      "source": [
        "m6=Model6()\n",
        "m6.trainModel(100)\n",
        "m6.testModel()\n"
      ],
      "execution_count": 157,
      "outputs": [
        {
          "output_type": "stream",
          "name": "stdout",
          "text": [
            "Train Loss  tensor([0.1888], grad_fn=<DivBackward0>)\n",
            "Final test Loss  tensor([0.1259], grad_fn=<DivBackward0>)\n"
          ]
        }
      ]
    },
    {
      "cell_type": "code",
      "metadata": {
        "id": "WUVWKFQwazjE"
      },
      "source": [
        "class Model7:\n",
        "    def __init__(self):\n",
        "        self.w07= Variable(torch.Tensor([1.0]),  requires_grad=True)  # Any random value\n",
        "        self.w17= Variable(torch.Tensor([1.0]),  requires_grad=True)\n",
        "        self.w27= Variable(torch.Tensor([1.0]),  requires_grad=True)\n",
        "        self.w37= Variable(torch.Tensor([1.0]),  requires_grad=True)\n",
        "        self.w47= Variable(torch.Tensor([1.0]),  requires_grad=True)\n",
        "        self.w57= Variable(torch.Tensor([1.0]),  requires_grad=True)\n",
        "        self.w67= Variable(torch.Tensor([1.0]),  requires_grad=True)\n",
        "        self.w77= Variable(torch.Tensor([1.0]),  requires_grad=True)\n",
        "\n",
        "        self.testloss=0\n",
        "        self.trainloss=0\n",
        "        self.y_predicted=[]\n",
        "        \n",
        "    #0 degree linear regression\n",
        "    def forward(self,x):\n",
        "        return self.w07 + self.w17 * pow(x,1) + self.w27 * pow(x,2) + self.w37 * pow(x,3) +self.w47 * pow(x,4)+ self.w57 * pow(x,5)+ self.w67 * pow(x,6)+ self.w77 * pow(x,7)\n",
        "\n",
        "    # Loss function\n",
        "    def loss(self,x, y):\n",
        "        y_pred = self.forward(x)\n",
        "        return (y_pred-y) * (y_pred-y)\n",
        "    \n",
        "    def trainModel(self,epochrange):\n",
        "        # Training loop\n",
        "        for epoch in range(epochrange):\n",
        "            self.trainloss=0\n",
        "            for x_val, y_val in zip(x_train, y_train):                \n",
        "                l = self.loss(x_val, y_val)\n",
        "                self.trainloss=self.trainloss+l\n",
        "                l.backward()\n",
        "                self.w07.data = self.w07.data - 0.01 * self.w07.grad.data\n",
        "                self.w17.data = self.w17.data - 0.01 * self.w17.grad.data\n",
        "                self.w27.data = self.w27.data - 0.01 * self.w27.grad.data\n",
        "                self.w37.data = self.w37.data - 0.01 * self.w37.grad.data\n",
        "                self.w47.data = self.w47.data - 0.01 * self.w47.grad.data\n",
        "                self.w57.data = self.w57.data - 0.01 * self.w57.grad.data\n",
        "                self.w67.data = self.w67.data - 0.01 * self.w67.grad.data\n",
        "                self.w77.data = self.w77.data - 0.01 * self.w77.grad.data\n",
        "                \n",
        "                self.w07.grad.data.zero_()\n",
        "                self.w17.grad.data.zero_()\n",
        "                self.w27.grad.data.zero_()\n",
        "                self.w37.grad.data.zero_()\n",
        "                self.w47.grad.data.zero_()\n",
        "                self.w57.grad.data.zero_()\n",
        "                self.w67.grad.data.zero_()\n",
        "                self.w77.grad.data.zero_()\n",
        "        \n",
        "        self.trainloss=self.trainloss/len(y_train)\n",
        "        print(\"Train loss \",self.trainloss)              \n",
        "    def testModel(self):\n",
        "        y_p=0\n",
        "        for x_t,y_t in zip(x_test,y_test):\n",
        "            y_p=self.forward(y_t)\n",
        "            y_p1=y_p.detach().numpy()\n",
        "            self.y_predicted.append(y_p1[0])\n",
        "            self.testloss=self.testloss+self.loss(x_t,y_t)\n",
        "        \n",
        "        self.testloss=self.testloss/len(y_test)\n",
        "        print(\"Final test Loss \",self.testloss)\n",
        "            "
      ],
      "execution_count": 161,
      "outputs": []
    },
    {
      "cell_type": "code",
      "metadata": {
        "colab": {
          "base_uri": "https://localhost:8080/"
        },
        "id": "SYAFmqxFazsh",
        "outputId": "eae55dd9-3ba8-4cff-af23-90324d3a1f9d"
      },
      "source": [
        "m7=Model7()\n",
        "m7.trainModel(100)\n",
        "m7.testModel()\n"
      ],
      "execution_count": 162,
      "outputs": [
        {
          "output_type": "stream",
          "name": "stdout",
          "text": [
            "Train loss  tensor([0.1680], grad_fn=<DivBackward0>)\n",
            "Final test Loss  tensor([0.1251], grad_fn=<DivBackward0>)\n"
          ]
        }
      ]
    },
    {
      "cell_type": "code",
      "metadata": {
        "id": "N2G6_TIUa0CK"
      },
      "source": [
        "class Model8:\n",
        "    def __init__(self):\n",
        "        self.w08= Variable(torch.Tensor([1.0]),  requires_grad=True)  # Any random value\n",
        "        self.w18= Variable(torch.Tensor([1.0]),  requires_grad=True)\n",
        "        self.w28= Variable(torch.Tensor([1.0]),  requires_grad=True)\n",
        "        self.w38= Variable(torch.Tensor([1.0]),  requires_grad=True)\n",
        "        self.w48= Variable(torch.Tensor([1.0]),  requires_grad=True)\n",
        "        self.w58= Variable(torch.Tensor([1.0]),  requires_grad=True)\n",
        "        self.w68= Variable(torch.Tensor([1.0]),  requires_grad=True)\n",
        "        self.w78= Variable(torch.Tensor([1.0]),  requires_grad=True)\n",
        "        self.w88= Variable(torch.Tensor([1.0]),  requires_grad=True)\n",
        "        self.testloss=0\n",
        "        self.trainloss=0\n",
        "        self.y_predicted=[]\n",
        "        \n",
        "    #0 degree linear regression\n",
        "    def forward(self,x):\n",
        "        return self.w08 + self.w18 * pow(x,1) + self.w28 * pow(x,2) + self.w38 * pow(x,3) +self.w48 * pow(x,4)+ self.w58 * pow(x,5)+ self.w68 * pow(x,6)+ self.w78 * pow(x,7)+ self.w88 * pow(x,8)\n",
        "\n",
        "    # Loss function\n",
        "    def loss(self,x, y):\n",
        "        y_pred = self.forward(x)\n",
        "        return (y_pred-y) * (y_pred-y)\n",
        "    \n",
        "    def trainModel(self,epochrange):\n",
        "        # Training loop\n",
        "        for epoch in range(epochrange):\n",
        "            self.trainloss=0\n",
        "            for x_val, y_val in zip(x_train, y_train):                \n",
        "                l = self.loss(x_val, y_val)\n",
        "                self.trainloss=self.trainloss+l\n",
        "                l.backward()\n",
        "                self.w08.data = self.w08.data - 0.01 * self.w08.grad.data\n",
        "                self.w18.data = self.w18.data - 0.01 * self.w18.grad.data\n",
        "                self.w28.data = self.w28.data - 0.01 * self.w28.grad.data\n",
        "                self.w38.data = self.w38.data - 0.01 * self.w38.grad.data\n",
        "                self.w48.data = self.w48.data - 0.01 * self.w48.grad.data\n",
        "                self.w58.data = self.w58.data - 0.01 * self.w58.grad.data\n",
        "                self.w68.data = self.w68.data - 0.01 * self.w68.grad.data\n",
        "                self.w78.data = self.w78.data - 0.01 * self.w78.grad.data\n",
        "                self.w88.data = self.w88.data - 0.01 * self.w88.grad.data\n",
        "\n",
        "                \n",
        "                self.w08.grad.data.zero_()\n",
        "                self.w18.grad.data.zero_()\n",
        "                self.w28.grad.data.zero_()\n",
        "                self.w38.grad.data.zero_()\n",
        "                self.w48.grad.data.zero_()\n",
        "                self.w58.grad.data.zero_()\n",
        "                self.w68.grad.data.zero_()\n",
        "                self.w78.grad.data.zero_()\n",
        "                self.w88.grad.data.zero_()\n",
        "\n",
        "                \n",
        "                #print(\"\\tgrad: \", x_val, y_val, grad)\n",
        "                \n",
        "                # After training\n",
        "                #print(\"predict (after training)\", self.forward(4))\n",
        "            #self.trainloss=l/len(y_train)\n",
        "        \n",
        "        \n",
        "        self.trainloss=self.trainloss/len(y_train)\n",
        "        print(\"Final train Loss \",self.trainloss)\n",
        "        \n",
        "    def testModel(self):\n",
        "        y_p=0\n",
        "        for x_t,y_t in zip(x_test,y_test):\n",
        "            y_p=self.forward(y_t)\n",
        "            y_p1=y_p.detach().numpy()\n",
        "            self.y_predicted.append(y_p1[0])\n",
        "            self.testloss=self.testloss+self.loss(x_t,y_t)\n",
        "        \n",
        "        self.testloss=self.testloss/len(y_test)\n",
        "        print(\"Final test Loss \",self.testloss)\n",
        "            \n"
      ],
      "execution_count": 163,
      "outputs": []
    },
    {
      "cell_type": "code",
      "metadata": {
        "colab": {
          "base_uri": "https://localhost:8080/"
        },
        "id": "dLk8cBWOa0Qq",
        "outputId": "fd494fa9-caac-495b-ff00-6fd21696f5e8"
      },
      "source": [
        "m8=Model8()\n",
        "m8.trainModel(100)\n",
        "m8.testModel()\n"
      ],
      "execution_count": 164,
      "outputs": [
        {
          "output_type": "stream",
          "name": "stdout",
          "text": [
            "Final train Loss  tensor([0.1474], grad_fn=<DivBackward0>)\n",
            "Final test Loss  tensor([0.1241], grad_fn=<DivBackward0>)\n"
          ]
        }
      ]
    },
    {
      "cell_type": "code",
      "metadata": {
        "id": "EGZtrpGtdAJs"
      },
      "source": [
        "class Model9:\n",
        "    def __init__(self):\n",
        "        self.w09= Variable(torch.Tensor([1.0]),  requires_grad=True)  # Any random value\n",
        "        self.w19= Variable(torch.Tensor([1.0]),  requires_grad=True)\n",
        "        self.w29= Variable(torch.Tensor([1.0]),  requires_grad=True)\n",
        "        self.w39= Variable(torch.Tensor([1.0]),  requires_grad=True)\n",
        "        self.w49= Variable(torch.Tensor([1.0]),  requires_grad=True)\n",
        "        self.w59= Variable(torch.Tensor([1.0]),  requires_grad=True)\n",
        "        self.w69= Variable(torch.Tensor([1.0]),  requires_grad=True)\n",
        "        self.w79= Variable(torch.Tensor([1.0]),  requires_grad=True)\n",
        "        self.w89= Variable(torch.Tensor([1.0]),  requires_grad=True)\n",
        "        self.w99= Variable(torch.Tensor([1.0]),  requires_grad=True)\n",
        "        self.testloss=0\n",
        "        self.trainloss=0\n",
        "        self.y_predicted=[]\n",
        "        \n",
        "    #0 degree linear regression\n",
        "    def forward(self,x):\n",
        "        return self.w09 + self.w19 * pow(x,1) + self.w29 * pow(x,2) + self.w39 * pow(x,3) +self.w49 * pow(x,4)+ self.w59 * pow(x,5)+ self.w69 * pow(x,6)+ self.w79 * pow(x,7)+ self.w89 * pow(x,8)+ self.w99 * pow(x,9)\n",
        "\n",
        "    def forward1(self,x):\n",
        "        return self.w09.data + self.w19.data * pow(x,1) + self.w29.data * pow(x,2) + self.w39.data * pow(x,3) +self.w49.data * pow(x,4)+ self.w59.data * pow(x,5)+ self.w69.data * pow(x,6)+ self.w79.data * pow(x,7)+ self.w89.data * pow(x,8)+ self.w99.data * pow(x,9)\n",
        "\n",
        "\n",
        "    # Loss function\n",
        "    def loss(self,x, y):\n",
        "        y_pred = self.forward(x)\n",
        "        return (y_pred-y) * (y_pred-y)\n",
        "    \n",
        "    def trainModel(self,epochrange):\n",
        "        # Training loop\n",
        "        for epoch in range(epochrange):\n",
        "            self.trainloss=0\n",
        "            for x_val, y_val in zip(x_train, y_train):                \n",
        "                l = self.loss(x_val, y_val)\n",
        "                self.trainloss=self.trainloss+l\n",
        "                l.backward()\n",
        "                self.w09.data = self.w09.data - 0.1 * self.w09.grad.data\n",
        "                self.w19.data = self.w19.data - 0.1 * self.w19.grad.data\n",
        "                self.w29.data = self.w29.data - 0.1 * self.w29.grad.data\n",
        "                self.w39.data = self.w39.data - 0.1 * self.w39.grad.data\n",
        "                self.w49.data = self.w49.data - 0.1 * self.w49.grad.data\n",
        "                self.w59.data = self.w59.data - 0.1 * self.w59.grad.data\n",
        "                self.w69.data = self.w69.data - 0.1 * self.w69.grad.data\n",
        "                self.w79.data = self.w79.data - 0.1 * self.w79.grad.data\n",
        "                self.w89.data = self.w89.data - 0.1 * self.w89.grad.data\n",
        "                self.w99.data = self.w99.data - 0.1 * self.w99.grad.data\n",
        "\n",
        "                \n",
        "                self.w09.grad.data.zero_()\n",
        "                self.w19.grad.data.zero_()\n",
        "                self.w29.grad.data.zero_()\n",
        "                self.w39.grad.data.zero_()\n",
        "                self.w49.grad.data.zero_()\n",
        "                self.w59.grad.data.zero_()\n",
        "                self.w69.grad.data.zero_()\n",
        "                self.w79.grad.data.zero_()\n",
        "                self.w89.grad.data.zero_()\n",
        "                self.w99.grad.data.zero_()\n",
        "                \n",
        "                #print(\"\\tgrad: \", x_val, y_val, grad)\n",
        "                \n",
        "                # After training\n",
        "                #print(\"predict (after training)\", self.forward(4))\n",
        "        self.trainloss=self.trainloss/len(y_train)\n",
        "        print(\"Final train Loss \",self.trainloss)\n",
        "        \n",
        "    def testModel(self):\n",
        "        y_p=0\n",
        "        for x_t,y_t in zip(x_test,y_test):\n",
        "            y_p=self.forward(y_t)\n",
        "            y_p1=y_p.detach().numpy()\n",
        "            self.y_predicted.append(y_p1[0])\n",
        "            self.testloss=self.testloss+self.loss(x_t,y_t)\n",
        "        \n",
        "        self.testloss=self.testloss/len(y_test)\n",
        "        print(\"Final test Loss \",self.testloss)\n",
        "            \n",
        "    def drawPredictionLine(self):\n",
        "        #x_test1=sorted(x_test)\n",
        "        pl.scatter(x_test, y_test, color = 'red')\n",
        "        #ls=self.y_predicted.numpy()\n",
        "        y_p=self.forward1(X_Line_Space)\n",
        "        \n",
        "        pl.plot(X_Line_Space, y_p, color = 'blue')\n",
        "        pl.xlabel(\"X_test\")\n",
        "        pl.ylabel(\"y_test\")"
      ],
      "execution_count": 165,
      "outputs": []
    },
    {
      "cell_type": "markdown",
      "metadata": {
        "id": "f3OSo74gQyXX"
      },
      "source": [
        ""
      ]
    },
    {
      "cell_type": "code",
      "metadata": {
        "colab": {
          "base_uri": "https://localhost:8080/",
          "height": 299
        },
        "id": "lHXKTlcxqeBu",
        "outputId": "0045b972-3ecd-47c2-da1e-1e389205a30e"
      },
      "source": [
        "m9=Model9()\n",
        "m9.trainModel(100000)\n",
        "m9.testModel()\n",
        "m9.drawPredictionLine()"
      ],
      "execution_count": 166,
      "outputs": [
        {
          "output_type": "stream",
          "name": "stdout",
          "text": [
            "Final train Loss  tensor([0.0005], grad_fn=<DivBackward0>)\n",
            "Final test Loss  tensor([0.0011], grad_fn=<DivBackward0>)\n"
          ]
        },
        {
          "output_type": "display_data",
          "data": {
            "image/png": "[encoded data removed]",
            "text/plain": [
              "<Figure size 432x288 with 1 Axes>"
            ]
          },
          "metadata": {
            "needs_background": "light"
          }
        }
      ]
    },
    {
      "cell_type": "code",
      "metadata": {
        "colab": {
          "base_uri": "https://localhost:8080/",
          "height": 359
        },
        "id": "1AQmaeu84Cep",
        "outputId": "35b02fa7-aff8-40c9-9bcf-79b289b0f5b8"
      },
      "source": [
        "#https://stackoverflow.com/questions/58053684/how-to-create-basic-table-in-python\n",
        "import pandas as pd  \n",
        "\n",
        "df = pd.DataFrame({'M0': [m0.w00.data,0,0,0,0,0,0,0,0,0], \n",
        "                   'M1': [m1.w01.data,m1.w11.data,0,0,0,0,0,0,0,0],\n",
        "                   'M3': [m3.w03.data,m3.w13.data,m3.w23.data,m3.w33.data,0,0,0,0,0,0],\n",
        "                   'M9': [m9.w09.data,m9.w19.data,m9.w29.data,m9.w39.data,m9.w49.data,m9.w59.data,m9.w69.data,m9.w79.data,m9.w89.data,m9.w99.data],\n",
        "                   })\n",
        "df.index = ['w0', 'w1','w2','w3','w4','w5','w6','w7','w8','w9']\n",
        "\n",
        "df"
      ],
      "execution_count": 169,
      "outputs": [
        {
          "output_type": "execute_result",
          "data": {
            "text/html": [
              "<div>\n",
              "<style scoped>\n",
              "    .dataframe tbody tr th:only-of-type {\n",
              "        vertical-align: middle;\n",
              "    }\n",
              "\n",
              "    .dataframe tbody tr th {\n",
              "        vertical-align: top;\n",
              "    }\n",
              "\n",
              "    .dataframe thead th {\n",
              "        text-align: right;\n",
              "    }\n",
              "</style>\n",
              "<table border=\"1\" class=\"dataframe\">\n",
              "  <thead>\n",
              "    <tr style=\"text-align: right;\">\n",
              "      <th></th>\n",
              "      <th>M0</th>\n",
              "      <th>M1</th>\n",
              "      <th>M3</th>\n",
              "      <th>M9</th>\n",
              "    </tr>\n",
              "  </thead>\n",
              "  <tbody>\n",
              "    <tr>\n",
              "      <th>w0</th>\n",
              "      <td>[tensor(0.1767)]</td>\n",
              "      <td>[tensor(0.8546)]</td>\n",
              "      <td>[tensor(-0.0330)]</td>\n",
              "      <td>[tensor(-0.1174)]</td>\n",
              "    </tr>\n",
              "    <tr>\n",
              "      <th>w1</th>\n",
              "      <td>0</td>\n",
              "      <td>[tensor(-1.4351)]</td>\n",
              "      <td>[tensor(10.1807)]</td>\n",
              "      <td>[tensor(9.1127)]</td>\n",
              "    </tr>\n",
              "    <tr>\n",
              "      <th>w2</th>\n",
              "      <td>0</td>\n",
              "      <td>0</td>\n",
              "      <td>[tensor(-29.9114)]</td>\n",
              "      <td>[tensor(-18.0947)]</td>\n",
              "    </tr>\n",
              "    <tr>\n",
              "      <th>w3</th>\n",
              "      <td>0</td>\n",
              "      <td>0</td>\n",
              "      <td>[tensor(19.7983)]</td>\n",
              "      <td>[tensor(-4.6791)]</td>\n",
              "    </tr>\n",
              "    <tr>\n",
              "      <th>w4</th>\n",
              "      <td>0</td>\n",
              "      <td>0</td>\n",
              "      <td>0</td>\n",
              "      <td>[tensor(5.9045)]</td>\n",
              "    </tr>\n",
              "    <tr>\n",
              "      <th>w5</th>\n",
              "      <td>0</td>\n",
              "      <td>0</td>\n",
              "      <td>0</td>\n",
              "      <td>[tensor(8.1844)]</td>\n",
              "    </tr>\n",
              "    <tr>\n",
              "      <th>w6</th>\n",
              "      <td>0</td>\n",
              "      <td>0</td>\n",
              "      <td>0</td>\n",
              "      <td>[tensor(5.6722)]</td>\n",
              "    </tr>\n",
              "    <tr>\n",
              "      <th>w7</th>\n",
              "      <td>0</td>\n",
              "      <td>0</td>\n",
              "      <td>0</td>\n",
              "      <td>[tensor(1.6353)]</td>\n",
              "    </tr>\n",
              "    <tr>\n",
              "      <th>w8</th>\n",
              "      <td>0</td>\n",
              "      <td>0</td>\n",
              "      <td>0</td>\n",
              "      <td>[tensor(-2.2870)]</td>\n",
              "    </tr>\n",
              "    <tr>\n",
              "      <th>w9</th>\n",
              "      <td>0</td>\n",
              "      <td>0</td>\n",
              "      <td>0</td>\n",
              "      <td>[tensor(-5.3979)]</td>\n",
              "    </tr>\n",
              "  </tbody>\n",
              "</table>\n",
              "</div>"
            ],
            "text/plain": [
              "                  M0                 M1                  M3                  M9\n",
              "w0  [tensor(0.1767)]   [tensor(0.8546)]   [tensor(-0.0330)]   [tensor(-0.1174)]\n",
              "w1                 0  [tensor(-1.4351)]   [tensor(10.1807)]    [tensor(9.1127)]\n",
              "w2                 0                  0  [tensor(-29.9114)]  [tensor(-18.0947)]\n",
              "w3                 0                  0   [tensor(19.7983)]   [tensor(-4.6791)]\n",
              "w4                 0                  0                   0    [tensor(5.9045)]\n",
              "w5                 0                  0                   0    [tensor(8.1844)]\n",
              "w6                 0                  0                   0    [tensor(5.6722)]\n",
              "w7                 0                  0                   0    [tensor(1.6353)]\n",
              "w8                 0                  0                   0   [tensor(-2.2870)]\n",
              "w9                 0                  0                   0   [tensor(-5.3979)]"
            ]
          },
          "metadata": {},
          "execution_count": 169
        }
      ]
    },
    {
      "cell_type": "code",
      "metadata": {
        "colab": {
          "base_uri": "https://localhost:8080/",
          "height": 609
        },
        "id": "SNtvEnHq63ef",
        "outputId": "e5f1c9f8-3e24-4322-d9f1-d832d34356d3"
      },
      "source": [
        "import numpy as np\n",
        "import math\n",
        "\n",
        "import matplotlib.pyplot as pl\n",
        "\n",
        "#https://numpy.org/doc/stable/reference/random/generated/numpy.random.normal.html\n",
        "\n",
        "N100 = np.random.normal(0, 1, 100)\n",
        "\n",
        "#https://numpy.org/doc/stable/reference/random/generated/numpy.random.uniform.html\n",
        "X100 = np.random.uniform(0,1,100)\n",
        "\n",
        "#https://www.w3schools.com/python/ref_math_pi.asp\n",
        "#https://www.geeksforgeeks.org/python-math-sin-function/\n",
        "Y100=[]\n",
        "for i in range (0,100):\n",
        "    temp_y=math.sin(2*(math.pi)*X100[i]) + 0.1 * N100[i]\n",
        "    Y100.append(temp_y)\n",
        "pl.figure(figsize=(15,10))\n",
        "pl.scatter(X100, Y100, color = 'red')\n",
        "y_p=m9.forward1(X_Line_Space)\n",
        "        \n",
        "pl.plot(X_Line_Space, y_p, color = 'blue')\n",
        "pl.xlabel(\"X_test\")\n",
        "pl.ylabel(\"y_test\")"
      ],
      "execution_count": 255,
      "outputs": [
        {
          "output_type": "execute_result",
          "data": {
            "text/plain": [
              "[<matplotlib.lines.Line2D at 0x7fc924d0d2d0>]"
            ]
          },
          "metadata": {},
          "execution_count": 255
        },
        {
          "output_type": "display_data",
          "data": {
            "image/png": "[encoded data removed]",
            "text/plain": [
              "<Figure size 1080x720 with 1 Axes>"
            ]
          },
          "metadata": {
            "needs_background": "light"
          }
        }
      ]
    },
    {
      "cell_type": "code",
      "metadata": {
        "colab": {
          "base_uri": "https://localhost:8080/",
          "height": 296
        },
        "id": "OPUpJhaGX1D9",
        "outputId": "e3356f7e-6baf-4c5a-d387-53978cb2a729"
      },
      "source": [
        "trainloss=[]\n",
        "testloss=[]\n",
        "\n",
        "trainloss.append(m0.trainloss.data)\n",
        "testloss.append(m0.testloss.data)\n",
        "\n",
        "trainloss.append(m1.trainloss.data)\n",
        "testloss.append(m1.testloss.data)\n",
        "\n",
        "trainloss.append(m2.trainloss.data)\n",
        "testloss.append(m2.testloss.data)\n",
        "\n",
        "trainloss.append(m3.trainloss.data)\n",
        "testloss.append(m3.testloss.data)\n",
        "\n",
        "trainloss.append(m4.trainloss.data)\n",
        "testloss.append(m4.testloss.data)\n",
        "\n",
        "trainloss.append(m5.trainloss.data)\n",
        "testloss.append(m5.testloss.data)\n",
        "\n",
        "trainloss.append(m6.trainloss.data)\n",
        "testloss.append(m6.testloss.data)\n",
        "\n",
        "trainloss.append(m7.trainloss.data)\n",
        "testloss.append(m7.testloss.data)\n",
        "\n",
        "trainloss.append(m8.trainloss.data)\n",
        "testloss.append(m8.testloss.data)\n",
        "\n",
        "trainloss.append(m9.trainloss.data)\n",
        "testloss.append(m9.testloss.data)\n",
        "model=[0,1,2,3,4,5,6,7,8,9]\n",
        "\n",
        "pl.scatter(model, testloss, color = 'red')\n",
        "pl.scatter(model, trainloss, color = 'blue')\n",
        "pl.xlabel(\"M\")\n",
        "pl.ylabel(\"Error\")"
      ],
      "execution_count": 268,
      "outputs": [
        {
          "output_type": "execute_result",
          "data": {
            "text/plain": [
              "Text(0, 0.5, 'Error')"
            ]
          },
          "metadata": {},
          "execution_count": 268
        },
        {
          "output_type": "display_data",
          "data": {
            "image/png": "[encoded data removed]",
            "text/plain": [
              "<Figure size 432x288 with 1 Axes>"
            ]
          },
          "metadata": {
            "needs_background": "light"
          }
        }
      ]
    },
    {
      "cell_type": "code",
      "metadata": {
        "id": "pCDuMBEH7Gem"
      },
      "source": [
        "class Model9Lambda:\n",
        "    def __init__(self,lambdavar):\n",
        "        self.w09= Variable(torch.Tensor([1.0]),  requires_grad=True)  # Any random value\n",
        "        self.w19= Variable(torch.Tensor([1.0]),  requires_grad=True)\n",
        "        self.w29= Variable(torch.Tensor([1.0]),  requires_grad=True)\n",
        "        self.w39= Variable(torch.Tensor([1.0]),  requires_grad=True)\n",
        "        self.w49= Variable(torch.Tensor([1.0]),  requires_grad=True)\n",
        "        self.w59= Variable(torch.Tensor([1.0]),  requires_grad=True)\n",
        "        self.w69= Variable(torch.Tensor([1.0]),  requires_grad=True)\n",
        "        self.w79= Variable(torch.Tensor([1.0]),  requires_grad=True)\n",
        "        self.w89= Variable(torch.Tensor([1.0]),  requires_grad=True)\n",
        "        self.w99= Variable(torch.Tensor([1.0]),  requires_grad=True)\n",
        "        self.testloss=0\n",
        "        self.trainloss=0\n",
        "        self.lambdavar=lambdavar\n",
        "        self.y_predicted=[]\n",
        "        \n",
        "    #0 degree linear regression\n",
        "    def forward(self,x):\n",
        "        return self.w09 + self.w19 * pow(x,1) + self.w29 * pow(x,2) + self.w39 * pow(x,3) +self.w49 * pow(x,4)+ self.w59 * pow(x,5)+ self.w69 * pow(x,6)+ self.w79 * pow(x,7)+ self.w89 * pow(x,8)+ self.w99 * pow(x,9)\n",
        "\n",
        "    def forward1(self,x):\n",
        "        return self.w09.data + self.w19.data * pow(x,1) + self.w29.data * pow(x,2) + self.w39.data * pow(x,3) + self.w49.data * pow(x,4)+ self.w59.data * pow(x,5)+ self.w69.data * pow(x,6)+ self.w79.data * pow(x,7)+ self.w89.data * pow(x,8)+ self.w99.data * pow(x,9)\n",
        "\n",
        "\n",
        "    # Loss function\n",
        "    def loss(self,x, y):\n",
        "        y_pred = self.forward(x)\n",
        "        return (y_pred-y) * (y_pred-y)  \n",
        "    \n",
        "    def trainModel(self,epochrange):\n",
        "        # Training loop\n",
        "        for epoch in range(epochrange):\n",
        "            self.trainloss=0\n",
        "            for x_val, y_val in zip(x_train, y_train):                \n",
        "                l = 0.5* self.loss(x_val, y_val) + 0.5 * self.lambdavar * (pow(self.w09.data,2) + pow(self.w19.data,2) + pow(self.w29.data,2) + pow(self.w39.data,2) + pow(self.w49.data,2) + pow(self.w59.data,2) + pow(self.w69.data,2)+ pow(self.w79.data,2) + pow(self.w89.data,2) + pow(self.w99.data,2))\n",
        "                self.trainloss=self.trainloss+l\n",
        "                l.backward()\n",
        "                self.w09.data = self.w09.data - 0.01 * self.w09.grad.data\n",
        "                self.w19.data = self.w19.data - 0.01 * self.w19.grad.data\n",
        "                self.w29.data = self.w29.data - 0.01 * self.w29.grad.data\n",
        "                self.w39.data = self.w39.data - 0.01 * self.w39.grad.data\n",
        "                self.w49.data = self.w49.data - 0.01 * self.w49.grad.data\n",
        "                self.w59.data = self.w59.data - 0.01 * self.w59.grad.data\n",
        "                self.w69.data = self.w69.data - 0.01 * self.w69.grad.data\n",
        "                self.w79.data = self.w79.data - 0.01 * self.w79.grad.data\n",
        "                self.w89.data = self.w89.data - 0.01 * self.w89.grad.data\n",
        "                self.w99.data = self.w99.data - 0.01 * self.w99.grad.data\n",
        "\n",
        "                \n",
        "                self.w09.grad.data.zero_()\n",
        "                self.w19.grad.data.zero_()\n",
        "                self.w29.grad.data.zero_()\n",
        "                self.w39.grad.data.zero_()\n",
        "                self.w49.grad.data.zero_()\n",
        "                self.w59.grad.data.zero_()\n",
        "                self.w69.grad.data.zero_()\n",
        "                self.w79.grad.data.zero_()\n",
        "                self.w89.grad.data.zero_()\n",
        "                self.w99.grad.data.zero_()\n",
        "                \n",
        "                #print(\"\\tgrad: \", x_val, y_val, grad)\n",
        "                \n",
        "                # After training\n",
        "                #print(\"predict (after training)\", self.forward(4))\n",
        "        self.trainloss=self.trainloss/len(y_train)\n",
        "        print(\"Final train Loss \",self.trainloss)\n",
        "        \n",
        "    def testModel(self):\n",
        "        y_p=0\n",
        "        for x_t,y_t in zip(x_test,y_test):\n",
        "            y_p=self.forward(y_t)\n",
        "            y_p1=y_p.detach().numpy()\n",
        "            self.y_predicted.append(y_p1[0])\n",
        "            self.testloss=self.testloss+ 0.5 * self.loss(x_t,y_t) + 0.5 * self.lambdavar * (pow(self.w09.data,2) + pow(self.w19.data,2) + pow(self.w29.data,2) + pow(self.w39.data,2) + pow(self.w49.data,2) + pow(self.w59.data,2) + pow(self.w69.data,2)+ pow(self.w79.data,2) + pow(self.w89.data,2) + pow(self.w99.data,2))\n",
        "        \n",
        "        self.testloss=self.testloss/len(y_test)\n",
        "        print(\"Final test Loss \",self.testloss)\n",
        "            \n",
        "    def drawPredictionLine(self):\n",
        "        #x_test1=sorted(x_test)\n",
        "        pl.scatter(x_test, y_test, color = 'red')\n",
        "        #ls=self.y_predicted.numpy()\n",
        "        y_p=self.forward1(X_Line_Space)\n",
        "        \n",
        "        pl.plot(X_Line_Space, y_p, color = 'blue')\n",
        "        #pl.text(0.8,0.75,\"M=0\")"
      ],
      "execution_count": 237,
      "outputs": []
    },
    {
      "cell_type": "code",
      "metadata": {
        "colab": {
          "base_uri": "https://localhost:8080/",
          "height": 299
        },
        "id": "DghDsOly9aHf",
        "outputId": "755a761e-3cd0-415f-ca05-6684152398dd"
      },
      "source": [
        "m91=Model9Lambda(1)\n",
        "m91.trainModel(1)\n",
        "m91.testModel()\n",
        "m91.drawPredictionLine()"
      ],
      "execution_count": 261,
      "outputs": [
        {
          "output_type": "stream",
          "name": "stdout",
          "text": [
            "Final train Loss  tensor([11.8803], grad_fn=<DivBackward0>)\n",
            "Final test Loss  tensor([6.0231], grad_fn=<DivBackward0>)\n"
          ]
        },
        {
          "output_type": "display_data",
          "data": {
            "image/png": "[encoded data removed]",
            "text/plain": [
              "<Figure size 432x288 with 1 Axes>"
            ]
          },
          "metadata": {
            "needs_background": "light"
          }
        }
      ]
    },
    {
      "cell_type": "code",
      "metadata": {
        "colab": {
          "base_uri": "https://localhost:8080/",
          "height": 303
        },
        "id": "Usxp-QIB9aUd",
        "outputId": "63f044b8-6491-4a5e-ada2-eaf2ec339d12"
      },
      "source": [
        "m92=Model9Lambda(1/10)\n",
        "m92.trainModel(10)\n",
        "m92.testModel()\n",
        "m92.drawPredictionLine()"
      ],
      "execution_count": 263,
      "outputs": [
        {
          "output_type": "stream",
          "name": "stdout",
          "text": [
            "Final train Loss  tensor([0.8865], grad_fn=<DivBackward0>)\n",
            "Final test Loss  tensor([0.5254], grad_fn=<DivBackward0>)\n"
          ]
        },
        {
          "output_type": "display_data",
          "data": {
            "image/png": "[encoded data removed]",
            "text/plain": [
              "<Figure size 432x288 with 1 Axes>"
            ]
          },
          "metadata": {
            "needs_background": "light"
          }
        }
      ]
    },
    {
      "cell_type": "code",
      "metadata": {
        "colab": {
          "base_uri": "https://localhost:8080/",
          "height": 299
        },
        "id": "KU1Ayoel9alg",
        "outputId": "399c0e43-d18a-43a2-e656-6ad5af91f5e9"
      },
      "source": [
        "m93=Model9Lambda(1/100)\n",
        "m93.trainModel(100)\n",
        "m93.testModel()\n",
        "m93.drawPredictionLine()"
      ],
      "execution_count": 264,
      "outputs": [
        {
          "output_type": "stream",
          "name": "stdout",
          "text": [
            "Final train Loss  tensor([0.0975], grad_fn=<DivBackward0>)\n",
            "Final test Loss  tensor([0.0747], grad_fn=<DivBackward0>)\n"
          ]
        },
        {
          "output_type": "display_data",
          "data": {
            "image/png": "[encoded data removed]",
            "text/plain": [
              "<Figure size 432x288 with 1 Axes>"
            ]
          },
          "metadata": {
            "needs_background": "light"
          }
        }
      ]
    },
    {
      "cell_type": "code",
      "metadata": {
        "colab": {
          "base_uri": "https://localhost:8080/",
          "height": 299
        },
        "id": "vFmo3qG49ay3",
        "outputId": "7bb9483e-dda8-4724-f1d9-223aec556328"
      },
      "source": [
        "m94=Model9Lambda(1/1000)\n",
        "m94.trainModel(1000)\n",
        "m94.testModel()\n",
        "m94.drawPredictionLine()"
      ],
      "execution_count": 265,
      "outputs": [
        {
          "output_type": "stream",
          "name": "stdout",
          "text": [
            "Final train Loss  tensor([0.0394], grad_fn=<DivBackward0>)\n",
            "Final test Loss  tensor([0.0695], grad_fn=<DivBackward0>)\n"
          ]
        },
        {
          "output_type": "display_data",
          "data": {
            "image/png": "[encoded data removed]",
            "text/plain": [
              "<Figure size 432x288 with 1 Axes>"
            ]
          },
          "metadata": {
            "needs_background": "light"
          }
        }
      ]
    },
    {
      "cell_type": "code",
      "metadata": {
        "colab": {
          "base_uri": "https://localhost:8080/",
          "height": 299
        },
        "id": "jEZfbpqA9wj4",
        "outputId": "a48b60ef-c7e2-4c8b-8319-2c2bcf826a6b"
      },
      "source": [
        "m95=Model9Lambda(1/10000)\n",
        "m95.trainModel(10000)\n",
        "m95.testModel()\n",
        "m95.drawPredictionLine()"
      ],
      "execution_count": 266,
      "outputs": [
        {
          "output_type": "stream",
          "name": "stdout",
          "text": [
            "Final train Loss  tensor([0.0192], grad_fn=<DivBackward0>)\n",
            "Final test Loss  tensor([0.0317], grad_fn=<DivBackward0>)\n"
          ]
        },
        {
          "output_type": "display_data",
          "data": {
            "image/png": "[encoded data removed]",
            "text/plain": [
              "<Figure size 432x288 with 1 Axes>"
            ]
          },
          "metadata": {
            "needs_background": "light"
          }
        }
      ]
    },
    {
      "cell_type": "code",
      "metadata": {
        "colab": {
          "base_uri": "https://localhost:8080/",
          "height": 299
        },
        "id": "KNEVL38G9wr_",
        "outputId": "6eae6311-eb79-47c9-9281-3bdbaed14a7e"
      },
      "source": [
        "m96=Model9Lambda(1/100000)\n",
        "m96.trainModel(10000)\n",
        "m96.testModel()\n",
        "m96.drawPredictionLine()"
      ],
      "execution_count": 243,
      "outputs": [
        {
          "output_type": "stream",
          "name": "stdout",
          "text": [
            "Final train Loss  tensor([0.0179], grad_fn=<DivBackward0>)\n",
            "Final test Loss  tensor([0.0304], grad_fn=<DivBackward0>)\n"
          ]
        },
        {
          "output_type": "display_data",
          "data": {
            "image/png": "[encoded data removed]",
            "text/plain": [
              "<Figure size 432x288 with 1 Axes>"
            ]
          },
          "metadata": {
            "needs_background": "light"
          }
        }
      ]
    },
    {
      "cell_type": "code",
      "metadata": {
        "colab": {
          "base_uri": "https://localhost:8080/",
          "height": 609
        },
        "id": "0Qi01d0fFOML",
        "outputId": "a89b58a7-144c-4875-cc26-e62a9e4ef07e"
      },
      "source": [
        "trainError=[]\n",
        "testError=[]\n",
        "\n",
        "trainError.append(m91.trainloss.data)\n",
        "trainError.append(m92.trainloss.data)\n",
        "trainError.append(m93.trainloss.data)\n",
        "trainError.append(m94.trainloss.data)\n",
        "trainError.append(m95.trainloss.data)\n",
        "trainError.append(m96.trainloss.data)\n",
        "\n",
        "testError.append(m91.testloss.data)\n",
        "testError.append(m92.testloss.data)\n",
        "testError.append(m93.testloss.data)\n",
        "testError.append(m94.testloss.data)\n",
        "testError.append(m95.testloss.data)\n",
        "testError.append(m96.testloss.data)\n",
        "\n",
        "error=[-0.1,0.5,0,1,10,100]\n",
        "pl.figure(figsize=(15,10))\n",
        "pl.scatter(error, testError, color = 'blue')\n",
        "pl.scatter(error, trainError, color = 'red')\n",
        "print(testError)"
      ],
      "execution_count": 259,
      "outputs": [
        {
          "output_type": "stream",
          "name": "stdout",
          "text": [
            "[tensor([14.4540]), tensor([1.4726]), tensor([0.1745]), tensor([0.1012]), tensor([0.0317]), tensor([0.0304])]\n"
          ]
        },
        {
          "output_type": "display_data",
          "data": {
            "image/png": "[encoded data removed]",
            "text/plain": [
              "<Figure size 1080x720 with 1 Axes>"
            ]
          },
          "metadata": {
            "needs_background": "light"
          }
        }
      ]
    },
    {
      "cell_type": "code",
      "metadata": {
        "colab": {
          "base_uri": "https://localhost:8080/",
          "height": 282
        },
        "id": "5P_DM2q9N9GZ",
        "outputId": "e170b550-f013-4ef4-ce0f-1581699a3c05"
      },
      "source": [
        ""
      ],
      "execution_count": 223,
      "outputs": [
        {
          "output_type": "execute_result",
          "data": {
            "text/plain": [
              "<matplotlib.collections.PathCollection at 0x7fc924dcb790>"
            ]
          },
          "metadata": {},
          "execution_count": 223
        },
        {
          "output_type": "display_data",
          "data": {
            "image/png": "[encoded data removed]",
            "text/plain": [
              "<Figure size 432x288 with 1 Axes>"
            ]
          },
          "metadata": {
            "needs_background": "light"
          }
        }
      ]
    }
  ]
}